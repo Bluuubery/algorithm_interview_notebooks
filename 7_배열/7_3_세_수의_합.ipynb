{
 "cells": [
  {
   "cell_type": "code",
   "execution_count": 1,
   "metadata": {},
   "outputs": [],
   "source": [
    "# 7-3 세 수의 합\n",
    "\n",
    "# 배열을 입력 받아 합으로 0을 만들 수 있는 3개의 엘리먼트를 출력하라\n",
    "\n",
    "nums = [-1, 0, 1, 2, -1, -4]\n",
    "# [[-1,-1,2],[-1,0,1]]"
   ]
  },
  {
   "cell_type": "code",
   "execution_count": 2,
   "metadata": {},
   "outputs": [],
   "source": [
    "# 01 브루트 포스로 계산\n",
    "\n",
    "# 시간 복잡도는 O(n^3)이지만 가장 쉽게 떠올릴 수 있는 풀이 방법\n",
    "# sort()로 먼저 정렬후 완저탐색하면서 세 수의 합을 구한다\n",
    "# 중복 제거해주기!"
   ]
  },
  {
   "cell_type": "code",
   "execution_count": 3,
   "metadata": {},
   "outputs": [
    {
     "data": {
      "text/plain": [
       "[[-1, -1, 2], [-1, 0, 1]]"
      ]
     },
     "execution_count": 3,
     "metadata": {},
     "output_type": "execute_result"
    }
   ],
   "source": [
    "def three_sum_bf(nums: list[int]):\n",
    "    results = []\n",
    "    nums.sort()\n",
    "\n",
    "    for i in range(len(nums) - 2):\n",
    "        # 중복 건너 뛰기\n",
    "        if i > 0 and nums[i] == nums[i - 1]:\n",
    "            continue\n",
    "        for j in range(i + 1, len(nums) - 1):\n",
    "            if j > i + 1 and nums[j] == nums[j - 1]:\n",
    "                continue\n",
    "            for k in range(j + 1, len(nums)):\n",
    "                if k > j + 1 and nums[k] == nums[k - 1]:\n",
    "                    continue\n",
    "                if nums[i] + nums[j] + nums[k] == 0:\n",
    "                    results.append([nums[i], nums[j], nums[k]])\n",
    "    \n",
    "    return results\n",
    "\n",
    "three_sum_bf(nums)"
   ]
  },
  {
   "cell_type": "code",
   "execution_count": 99,
   "metadata": {},
   "outputs": [
    {
     "data": {
      "text/plain": [
       "[[-1, -1, 2], [-1, 0, 1]]"
      ]
     },
     "execution_count": 99,
     "metadata": {},
     "output_type": "execute_result"
    }
   ],
   "source": [
    "# 02 투 포인터로 계산\n",
    "\n",
    "def three_sum_two_pointer(nums: list[int]):\n",
    "    results = []\n",
    "    nums.sort()\n",
    "\n",
    "    for i in range(len(nums) - 2):\n",
    "        # 중복 건너 뛰기\n",
    "        if i > 0 and nums[i] == nums[i - 1]:\n",
    "            continue\n",
    "        \n",
    "        # 간격을 좁혀가면서 합계 계산\n",
    "        left = i + 1\n",
    "        right = len(nums) - 1\n",
    "\n",
    "        while left < right:\n",
    "            sum = nums[i] + nums[left] + nums[right]\n",
    "            if sum < 0:\n",
    "                left += 1\n",
    "            elif sum > 0:\n",
    "                right -= 1\n",
    "            else:\n",
    "                # 정답 처리해주기\n",
    "                results.append([nums[i], nums[left], nums[right]])\n",
    "            \n",
    "                # 중복 건너 뛰기\n",
    "                while left < right and nums[left] == nums[left + 1]:\n",
    "                    left += 1\n",
    "                while left < right and nums[right] == nums[right - 1]:\n",
    "                    right -= 1\n",
    "                \n",
    "                # 포인터 이동\n",
    "                left += 1\n",
    "                right -= 1\n",
    "\n",
    "    return results\n",
    "\n",
    "three_sum_two_pointer(nums)"
   ]
  },
  {
   "cell_type": "code",
   "execution_count": 100,
   "metadata": {},
   "outputs": [
    {
     "data": {
      "text/plain": [
       "[[-1, 0, 1], [-1, -1, 2]]"
      ]
     },
     "execution_count": 100,
     "metadata": {},
     "output_type": "execute_result"
    }
   ],
   "source": [
    "# 03 비트연산자 부분집합으로 계산\n",
    "\n",
    "def three_sum_subset(nums: list[int]):\n",
    "    results = []\n",
    "    nums.sort()\n",
    "    \n",
    "    for i in range(1<<len(nums)):\n",
    "        subset = []\n",
    "        for j in range(len(nums)):\n",
    "            if i & (1<<j):\n",
    "                # 부분집합의 합과 원소의 수를 계산해준다.\n",
    "                subset.append(nums[j]) \n",
    "        # 부분집합의 원소의 수와 합이 조건을 만족하면 cnt를 더해준다.\n",
    "        if len(subset) == 3 and sum(subset) == 0 and subset not in results:\n",
    "            results.append(subset)\n",
    "\n",
    "    return results\n",
    "\n",
    "three_sum_subset(nums)"
   ]
  },
  {
   "cell_type": "code",
   "execution_count": null,
   "metadata": {},
   "outputs": [],
   "source": []
  }
 ],
 "metadata": {
  "kernelspec": {
   "display_name": "Python 3.10.5 64-bit",
   "language": "python",
   "name": "python3"
  },
  "language_info": {
   "codemirror_mode": {
    "name": "ipython",
    "version": 3
   },
   "file_extension": ".py",
   "mimetype": "text/x-python",
   "name": "python",
   "nbconvert_exporter": "python",
   "pygments_lexer": "ipython3",
   "version": "3.10.5"
  },
  "orig_nbformat": 4,
  "vscode": {
   "interpreter": {
    "hash": "0f9decba11e32807460237387b764227230426c90a3d4ff265bcca4228109e23"
   }
  }
 },
 "nbformat": 4,
 "nbformat_minor": 2
}
