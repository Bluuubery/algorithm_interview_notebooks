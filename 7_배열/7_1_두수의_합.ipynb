{
 "cells": [
  {
   "cell_type": "code",
   "execution_count": 1,
   "metadata": {},
   "outputs": [],
   "source": [
    "# 7-1 두 수의 합\n",
    "\n",
    "# 덧셈하여 타겟을 만들 수 있는 배열의 두 숫자 인덱스를 리턴하라\n",
    "\n",
    "nums = [2, 7, 11, 15]\n",
    "target = 9\n",
    "# [0, 1]"
   ]
  },
  {
   "cell_type": "markdown",
   "metadata": {},
   "source": [
    "---"
   ]
  },
  {
   "cell_type": "code",
   "execution_count": 2,
   "metadata": {},
   "outputs": [],
   "source": [
    "# 01 브루트 포스로 계산\n",
    "\n",
    "# 가장 직관적인(?), 비효율적인 풀이 방식\n",
    "# 시간복잡도 O(n^2)"
   ]
  },
  {
   "cell_type": "code",
   "execution_count": 4,
   "metadata": {},
   "outputs": [],
   "source": [
    "def two_sum_bf(nums: list[int], targe: int):\n",
    "    for i in range(len(nums)):\n",
    "        for j in range(i + 1, len(nums)):\n",
    "            if nums[i] + nums[j] == target:\n",
    "                return [i, j] "
   ]
  },
  {
   "cell_type": "code",
   "execution_count": 5,
   "metadata": {},
   "outputs": [
    {
     "data": {
      "text/plain": [
       "[0, 1]"
      ]
     },
     "execution_count": 5,
     "metadata": {},
     "output_type": "execute_result"
    }
   ],
   "source": [
    "two_sum_bf(nums, target)"
   ]
  },
  {
   "cell_type": "markdown",
   "metadata": {},
   "source": [
    "---"
   ]
  },
  {
   "cell_type": "code",
   "execution_count": 6,
   "metadata": {},
   "outputs": [],
   "source": [
    "# 02 in을 통한 탐색\n",
    "\n",
    "# 모든 조합을 비교하지 않고, 정답(타겟)에서 첫 번째 값을 뺀 값 target -n이 존재하는지 탐색!\n",
    "# O(n)"
   ]
  },
  {
   "cell_type": "code",
   "execution_count": 16,
   "metadata": {},
   "outputs": [
    {
     "data": {
      "text/plain": [
       "[1, 2]"
      ]
     },
     "execution_count": 16,
     "metadata": {},
     "output_type": "execute_result"
    }
   ],
   "source": [
    "def two_sum_in(nums: list[int], target: int):\n",
    "    for i, n in enumerate(nums):\n",
    "        complement = target - n\n",
    "\n",
    "        # n * 2 == target일 때 같은 값을 두 번 세는 것을 방지! \n",
    "        if complement in nums[i + 1:]:\n",
    "            return [i, nums[i + 1:].index(complement) + (i + 1)]\n",
    "\n",
    "two_sum_in([3, 2, 4], 6)"
   ]
  },
  {
   "cell_type": "markdown",
   "metadata": {},
   "source": [
    "---"
   ]
  },
  {
   "cell_type": "code",
   "execution_count": 17,
   "metadata": {},
   "outputs": [],
   "source": [
    "# 03 첫 번째로 수를 뺀 결과 키 조회\n",
    "\n",
    "# 타겟에서 첫 번째 수를 빼면 두 번째 수를 바로 알아낼 수 있다.\n",
    "# => 두 번째 수를 키로 하고 기존의 인덱스를 값으로 딕셔너리에 저장해둬서 키로 즉시 조회!\n",
    "# 평균 O(1), 최악 O(n)"
   ]
  },
  {
   "cell_type": "code",
   "execution_count": 26,
   "metadata": {},
   "outputs": [
    {
     "data": {
      "text/plain": [
       "[0, 1]"
      ]
     },
     "execution_count": 26,
     "metadata": {},
     "output_type": "execute_result"
    }
   ],
   "source": [
    "def two_sum_dict(nums: list[int], target: int):\n",
    "    nums_map = {}\n",
    "\n",
    "    # 키와 값을 바꿔서 저장\n",
    "    for i , num in enumerate(nums):\n",
    "        nums_map[num] = i\n",
    "\n",
    "    # 합이 target이 되고, 중복이 아니면 키로 접근 \n",
    "    for i, num in enumerate(nums):\n",
    "        if target - num in nums_map and i != nums_map[target-num]:\n",
    "            return [i, nums_map[target - num]]\n",
    "\n",
    "two_sum_dict(nums, target)"
   ]
  },
  {
   "cell_type": "markdown",
   "metadata": {},
   "source": [
    "---"
   ]
  },
  {
   "cell_type": "code",
   "execution_count": 20,
   "metadata": {},
   "outputs": [],
   "source": [
    "# 04 03의 조회 구조 개선\n",
    "\n",
    "# 두 개의 for문을 하나로 단축"
   ]
  },
  {
   "cell_type": "code",
   "execution_count": 33,
   "metadata": {},
   "outputs": [
    {
     "data": {
      "text/plain": [
       "[0, 1]"
      ]
     },
     "execution_count": 33,
     "metadata": {},
     "output_type": "execute_result"
    }
   ],
   "source": [
    "def two_sum_dict2(nums: list[int], target: int):\n",
    "    nums_map = {}\n",
    "\n",
    "    # 하나의 for문으로 통합\n",
    "    # 검사를 먼저 하고 인덱스(i) 추가를 나중에 하므로 중복 검사 조건을 넣을 필요가 없다. \n",
    "    for i, num in enumerate(nums):\n",
    "        if target - num in nums_map:\n",
    "            return [nums_map[target - num], i]\n",
    "        nums_map[num] = i\n",
    "\n",
    "two_sum_dict2(nums, target)"
   ]
  },
  {
   "cell_type": "code",
   "execution_count": 28,
   "metadata": {},
   "outputs": [],
   "source": [
    "del two_sum_dict2"
   ]
  },
  {
   "cell_type": "code",
   "execution_count": null,
   "metadata": {},
   "outputs": [],
   "source": []
  }
 ],
 "metadata": {
  "kernelspec": {
   "display_name": "Python 3.10.5 64-bit",
   "language": "python",
   "name": "python3"
  },
  "language_info": {
   "codemirror_mode": {
    "name": "ipython",
    "version": 3
   },
   "file_extension": ".py",
   "mimetype": "text/x-python",
   "name": "python",
   "nbconvert_exporter": "python",
   "pygments_lexer": "ipython3",
   "version": "3.10.5"
  },
  "orig_nbformat": 4,
  "vscode": {
   "interpreter": {
    "hash": "0f9decba11e32807460237387b764227230426c90a3d4ff265bcca4228109e23"
   }
  }
 },
 "nbformat": 4,
 "nbformat_minor": 2
}
