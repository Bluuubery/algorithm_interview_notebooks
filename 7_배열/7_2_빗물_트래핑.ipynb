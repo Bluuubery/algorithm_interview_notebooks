{
 "cells": [
  {
   "cell_type": "code",
   "execution_count": 2,
   "metadata": {},
   "outputs": [],
   "source": [
    "# 7-2 빗물 트래핑\n",
    "\n",
    "# 높이를 입력 받아 비 온 후 얼마나 많은 물이 쌓일 수 있는지 계산하라\n",
    "\n",
    "height = [0,1,0,2,1,0,1,3,2,1,2,1]\n",
    "# 6"
   ]
  },
  {
   "cell_type": "markdown",
   "metadata": {},
   "source": [
    "![빗물트래핑](https://assets.leetcode.com/uploads/2018/10/22/rainwatertrap.png)"
   ]
  },
  {
   "cell_type": "code",
   "execution_count": null,
   "metadata": {},
   "outputs": [],
   "source": [
    "# 01 투포인터를 최대로 이동\n",
    "\n",
    "# 막대의 최대 높이는 전체 부피에 영향을 끼치지 않고 왼쪽과 오른쪽을 나누는 장벽 역할을 한다.\n",
    "# 최대 높이의 막대까지 좌우 기둥 최대 높이와 현재 높이의 차이만큼 물 높이(volume)ㅇ을 더해 간다.\n",
    "# 포인터가 낮은 쪾에서 높은 쪾으로 가운데로 이동하다 최대 지점에서 만나게 된다."
   ]
  },
  {
   "cell_type": "code",
   "execution_count": 11,
   "metadata": {},
   "outputs": [
    {
     "data": {
      "text/plain": [
       "6"
      ]
     },
     "execution_count": 11,
     "metadata": {},
     "output_type": "execute_result"
    }
   ],
   "source": [
    "def trap_two_pointer(height: list[int]):\n",
    "    if not height:\n",
    "        return 0\n",
    "\n",
    "    volume = 0\n",
    "    left, right = 0, len(height) - 1\n",
    "    left_max, right_max = height[left], height[right]\n",
    "\n",
    "    while left < right:\n",
    "        left_max, right_max = max(height[left], left_max), max(height[right], right_max)\n",
    "\n",
    "        # 더 높은 쪽을 향해 투 포인터 이동\n",
    "        if left_max <= right_max:\n",
    "            volume += left_max -  height[left]\n",
    "            left += 1\n",
    "        else:\n",
    "            volume += right_max - height[right]\n",
    "            right -= 1\n",
    "    \n",
    "    return volume\n",
    "\n",
    "trap_two_pointer(height)"
   ]
  },
  {
   "cell_type": "code",
   "execution_count": 12,
   "metadata": {},
   "outputs": [],
   "source": [
    "# 02 스택 쌓기\n",
    "\n",
    "# 스택을 쌓아 나가면서 현재 높이가 이전 높이보다 높을 때(변곡점) 격차만큼 물 높이를 채워준다.\n",
    "# 이전 높이가 고정적이지 않기 때문에 변곡점을 만날 때마다 스택에서 하나씩 꺼내가면서 이전과의 차이만큼 물 높이를 채워 나간다."
   ]
  },
  {
   "cell_type": "code",
   "execution_count": 21,
   "metadata": {},
   "outputs": [
    {
     "data": {
      "text/plain": [
       "6"
      ]
     },
     "execution_count": 21,
     "metadata": {},
     "output_type": "execute_result"
    }
   ],
   "source": [
    "def trap_stack(height:list[int]):\n",
    "    stack = []\n",
    "    volume = 0\n",
    "\n",
    "    for i in range(len(height)):\n",
    "        # 변곡점을 만났을 때\n",
    "        while stack and height[i] > height[stack[-1]]:\n",
    "            # 스택에서 꺼내기\n",
    "            top = stack.pop()\n",
    "\n",
    "            if not len(stack):\n",
    "                break\n",
    "            \n",
    "            # 이전과의 차이만큼 물 높이 처리\n",
    "            distance = i - stack[-1] -1\n",
    "            waters = min(height[i], height[stack[-1]]) - height[top]\n",
    "            volume += distance * waters\n",
    "        \n",
    "        stack.append(i)\n",
    "\n",
    "    return volume\n",
    "\n",
    "trap_stack(height)"
   ]
  },
  {
   "cell_type": "code",
   "execution_count": null,
   "metadata": {},
   "outputs": [],
   "source": []
  }
 ],
 "metadata": {
  "kernelspec": {
   "display_name": "Python 3.10.5 64-bit",
   "language": "python",
   "name": "python3"
  },
  "language_info": {
   "codemirror_mode": {
    "name": "ipython",
    "version": 3
   },
   "file_extension": ".py",
   "mimetype": "text/x-python",
   "name": "python",
   "nbconvert_exporter": "python",
   "pygments_lexer": "ipython3",
   "version": "3.10.5"
  },
  "orig_nbformat": 4,
  "vscode": {
   "interpreter": {
    "hash": "0f9decba11e32807460237387b764227230426c90a3d4ff265bcca4228109e23"
   }
  }
 },
 "nbformat": 4,
 "nbformat_minor": 2
}
