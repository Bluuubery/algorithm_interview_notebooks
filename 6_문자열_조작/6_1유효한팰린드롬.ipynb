{
 "cells": [
  {
   "cell_type": "code",
   "execution_count": 1,
   "metadata": {},
   "outputs": [],
   "source": [
    "#6 - 1 유효한 펠린드롬\n",
    "\n",
    "str1 = 'A man, a plan, a canal: Panama'\n",
    "# True\n",
    "\n",
    "str2 = 'race a car'\n",
    "# False"
   ]
  },
  {
   "cell_type": "code",
   "execution_count": null,
   "metadata": {},
   "outputs": [],
   "source": [
    "'''\n",
    "1 리스트로 변환\n",
    "\n",
    "직접 문자열을 입력 받아 펠린드롬 여부 판별\n",
    "but, 대소문자 구분 x, 영어 숫자 only\n",
    "'''"
   ]
  },
  {
   "cell_type": "code",
   "execution_count": 37,
   "metadata": {},
   "outputs": [
    {
     "name": "stdout",
     "output_type": "stream",
     "text": [
      "['r', 'a', 'c', 'e', 'a', 'c', 'a', 'r']\n"
     ]
    }
   ],
   "source": [
    "# 문자, 숫자만 골라내기\n",
    "strs = []\n",
    "for char in str2:\n",
    "    if char.isalnum(): # 영문자 or 숫자 여부 판별\n",
    "        strs.append(char.lower()) # 소문자로 변환\n",
    "print(strs)"
   ]
  },
  {
   "cell_type": "code",
   "execution_count": 38,
   "metadata": {},
   "outputs": [
    {
     "name": "stdout",
     "output_type": "stream",
     "text": [
      "False\n"
     ]
    }
   ],
   "source": [
    "# 펠린드롬 여부 판별\n",
    "while len(strs) > 1:\n",
    "    if strs.pop(0) != strs.pop():\n",
    "        print(False)\n",
    "        break\n",
    "else: print(True)"
   ]
  },
  {
   "cell_type": "code",
   "execution_count": null,
   "metadata": {},
   "outputs": [],
   "source": [
    "'''\n",
    "2 데크 자료형 이용한 최적화\n",
    "list.pop(0) -> O(N)\n",
    "deque.popleft() -> O(1)\n",
    "시간 복잡도 면에서 우수하다...!!\n",
    "'''"
   ]
  },
  {
   "cell_type": "code",
   "execution_count": 39,
   "metadata": {},
   "outputs": [
    {
     "name": "stdout",
     "output_type": "stream",
     "text": [
      "deque(['r', 'a', 'c', 'e', 'a', 'c', 'a', 'r'])\n"
     ]
    }
   ],
   "source": [
    "from collections import deque\n",
    "\n",
    "strs = deque()\n",
    "\n",
    "for char in str2:\n",
    "    if char.isalnum(): # 영문자 or 숫자 여부 판별\n",
    "        strs.append(char.lower()) # 소문자로 변환\n",
    "print(strs)"
   ]
  },
  {
   "cell_type": "code",
   "execution_count": 40,
   "metadata": {},
   "outputs": [
    {
     "name": "stdout",
     "output_type": "stream",
     "text": [
      "False\n"
     ]
    }
   ],
   "source": [
    "while len(strs) > 1:\n",
    "    if strs.popleft() != strs.pop():\n",
    "        print(False)\n",
    "        break\n",
    "else: print(True)"
   ]
  },
  {
   "cell_type": "code",
   "execution_count": null,
   "metadata": {},
   "outputs": [],
   "source": [
    "'''\n",
    "3 슬라이싱 사용\n",
    "내부적으로 c로 빠르게 구현 되어 있고, 뒤집기 등 더욱 다양한 활용이 가능하다!\n",
    "more pythonic!\n",
    "'''"
   ]
  },
  {
   "cell_type": "code",
   "execution_count": 44,
   "metadata": {},
   "outputs": [
    {
     "name": "stdout",
     "output_type": "stream",
     "text": [
      "True\n"
     ]
    }
   ],
   "source": [
    "import re # 정규 표현식 모듈\n",
    "\n",
    "s = str1.lower()\n",
    "\n",
    "s = re.sub('[^a-z0-9]', '', s) # 정규 표현식으로 문자열 s에서 a-z, 0-9가 아닌 것을 공백으로 바꿔준다.(없앤다.)\n",
    "\n",
    "print(s == s[::-1])\n"
   ]
  },
  {
   "cell_type": "code",
   "execution_count": 48,
   "metadata": {},
   "outputs": [
    {
     "name": "stdout",
     "output_type": "stream",
     "text": [
      "['a', 'm', 'a', 'n', 'a', 'p', 'l', 'a', 'n', 'a', 'c', 'a', 'n', 'a', 'l', 'p', 'a', 'n', 'a', 'm', 'a']\n"
     ]
    }
   ],
   "source": [
    "# 그 외 방법...\n",
    "# 걸러낼 특수문자를 미리 리스트에 담아두고 for 문을 통해 문자열 내부의 원소들을 검증한다.\n",
    "\n",
    "symbols = [' ', ':', '!', ',']\n",
    "strs = []\n",
    "for char in str1.lower():\n",
    "    if char in symbols:\n",
    "        pass    \n",
    "    else:\n",
    "        strs.append(char)\n",
    "print(strs) "
   ]
  },
  {
   "cell_type": "code",
   "execution_count": null,
   "metadata": {},
   "outputs": [],
   "source": []
  }
 ],
 "metadata": {
  "kernelspec": {
   "display_name": "Python 3.10.5 64-bit",
   "language": "python",
   "name": "python3"
  },
  "language_info": {
   "codemirror_mode": {
    "name": "ipython",
    "version": 3
   },
   "file_extension": ".py",
   "mimetype": "text/x-python",
   "name": "python",
   "nbconvert_exporter": "python",
   "pygments_lexer": "ipython3",
   "version": "3.10.5"
  },
  "orig_nbformat": 4,
  "vscode": {
   "interpreter": {
    "hash": "0f9decba11e32807460237387b764227230426c90a3d4ff265bcca4228109e23"
   }
  }
 },
 "nbformat": 4,
 "nbformat_minor": 2
}
