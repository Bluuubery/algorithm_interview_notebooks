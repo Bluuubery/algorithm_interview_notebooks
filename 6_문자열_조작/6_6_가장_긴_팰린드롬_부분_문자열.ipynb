{
 "cells": [
  {
   "cell_type": "code",
   "execution_count": 2,
   "metadata": {},
   "outputs": [],
   "source": [
    "# 6-6 가장 긴 팰린드롬 부분 문자열\n",
    "\n",
    "# 가장 긴 팰린드롬 부분 문자열을 출력하라\n",
    "\n",
    "s1 = \"babad\"\n",
    "# bab\n",
    "s2 = \"cbbd\"\n",
    "# bb"
   ]
  },
  {
   "cell_type": "code",
   "execution_count": 3,
   "metadata": {},
   "outputs": [],
   "source": [
    "# 01 중앙을 중심으로 확장하는 풀이\n",
    "\n",
    "# 투포인터가 중앙을 중심으로 확장하는 풀이"
   ]
  },
  {
   "cell_type": "code",
   "execution_count": 4,
   "metadata": {},
   "outputs": [],
   "source": [
    "def longest_palindrome(s):\n",
    "    # 팰린드롬 판별 및 투 포인터 확장\n",
    "    def expand(left: int, right: int):\n",
    "        while left >= 0 and right < len(s) and s[left] == s[right]:\n",
    "            # 중앙에서부터 출발해서 확장해나간다.\n",
    "            left -= 1\n",
    "            right += 1\n",
    "        return s[left + 1:right]\n",
    "\n",
    "    # 해당 사항이 없을 때 빠르게 리턴\n",
    "    if len(s) < 2 or s == s[::-1]:\n",
    "        return s\n",
    "    \n",
    "    result = ''\n",
    "    # 슬라이딩 윈도우 우측으로 이동\n",
    "    for i in range(len(s) - 1):\n",
    "        result = max(result, expand(i, i + 1), expand(i, i + 2), key=len)\n",
    "    \n",
    "    return result"
   ]
  },
  {
   "cell_type": "code",
   "execution_count": 5,
   "metadata": {},
   "outputs": [
    {
     "name": "stdout",
     "output_type": "stream",
     "text": [
      "bab\n",
      "bb\n"
     ]
    }
   ],
   "source": [
    "print(longest_palindrome(s1))\n",
    "print(longest_palindrome(s2))"
   ]
  },
  {
   "cell_type": "code",
   "execution_count": null,
   "metadata": {},
   "outputs": [],
   "source": []
  }
 ],
 "metadata": {
  "kernelspec": {
   "display_name": "Python 3.10.5 64-bit",
   "language": "python",
   "name": "python3"
  },
  "language_info": {
   "codemirror_mode": {
    "name": "ipython",
    "version": 3
   },
   "file_extension": ".py",
   "mimetype": "text/x-python",
   "name": "python",
   "nbconvert_exporter": "python",
   "pygments_lexer": "ipython3",
   "version": "3.10.5"
  },
  "orig_nbformat": 4,
  "vscode": {
   "interpreter": {
    "hash": "0f9decba11e32807460237387b764227230426c90a3d4ff265bcca4228109e23"
   }
  }
 },
 "nbformat": 4,
 "nbformat_minor": 2
}
