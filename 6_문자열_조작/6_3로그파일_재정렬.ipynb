{
 "cells": [
  {
   "cell_type": "code",
   "execution_count": 1,
   "metadata": {},
   "outputs": [],
   "source": [
    "# 6-3 로그파일 재정렬\n",
    "\n",
    "'''\n",
    "1. 로그의 가장 앞 부분은 식별자다. \n",
    "2. 문자로 구성된 로그가 숫자 로그보다 앞에 온다.\n",
    "3. 식별자는 순서에 영향을 끼치지 않지만, 문자가 동일한 경우 식별자 순으로 한다.\n",
    "3. 숫자 로그는 입력 순서대로 한다.\n",
    "'''\n",
    "\n",
    "logs = [\"dig1 8 1 5 1\",\"let1 art can\",\"dig2 3 6\",\"let2 own kit dig\",\"let3 art zero\"]\n",
    "\n",
    "# [\"let1 art can\",\"let3 art zero\",\"let2 own kit dig\",\"dig1 8 1 5 1\",\"dig2 3 6\"]"
   ]
  },
  {
   "cell_type": "code",
   "execution_count": 2,
   "metadata": {},
   "outputs": [],
   "source": [
    "# 1 람다와 + 연산자를 이용\n",
    "\n",
    "# 요구 조건을 얼마나 깔끔하게 처리할 수 있는가?!\n",
    "# isdigit()을 통해 숫자 여부 판별 -> digits와 letter로 구분 하고 정렬"
   ]
  },
  {
   "cell_type": "code",
   "execution_count": 4,
   "metadata": {},
   "outputs": [
    {
     "data": {
      "text/plain": [
       "['let1 art can',\n",
       " 'let3 art zero',\n",
       " 'let2 own kit dig',\n",
       " 'dig1 8 1 5 1',\n",
       " 'dig2 3 6']"
      ]
     },
     "execution_count": 4,
     "metadata": {},
     "output_type": "execute_result"
    }
   ],
   "source": [
    "def reorder_logfiles(logfile):\n",
    "    letters, digits = [], []\n",
    "    for log in logfile:\n",
    "        if log.split()[1].isdigit():\n",
    "            digits.append(log)\n",
    "        else:\n",
    "            letters.append(log)\n",
    "    \n",
    "    letters.sort(key= lambda x: (x.split()[1:], x.split()[0]))\n",
    "    return letters + digits\n",
    "\n",
    "reorder_logfiles(logs)"
   ]
  },
  {
   "cell_type": "code",
   "execution_count": null,
   "metadata": {},
   "outputs": [],
   "source": [
    "# 람다 표현식은 가독성이 떨어져서 가급적이면 사용 자제!!\n",
    "# list comprehension이나 일반 반복문 사용하기!!\n",
    "# 람다를 사용함으로써 풀이가 더 편해지는 경우에만 사용하기!!"
   ]
  }
 ],
 "metadata": {
  "kernelspec": {
   "display_name": "Python 3.10.5 64-bit",
   "language": "python",
   "name": "python3"
  },
  "language_info": {
   "codemirror_mode": {
    "name": "ipython",
    "version": 3
   },
   "file_extension": ".py",
   "mimetype": "text/x-python",
   "name": "python",
   "nbconvert_exporter": "python",
   "pygments_lexer": "ipython3",
   "version": "3.10.5"
  },
  "orig_nbformat": 4,
  "vscode": {
   "interpreter": {
    "hash": "0f9decba11e32807460237387b764227230426c90a3d4ff265bcca4228109e23"
   }
  }
 },
 "nbformat": 4,
 "nbformat_minor": 2
}
