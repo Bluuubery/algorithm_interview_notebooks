{
 "cells": [
  {
   "cell_type": "code",
   "execution_count": 8,
   "metadata": {},
   "outputs": [],
   "source": [
    "# 02 문자열 뒤집기\n",
    "\n",
    "str1 = ['h', 'e', 'l', 'l', 'o']\n",
    "\n",
    "str2 = ['H', 'a', 'n', 'n', 'a', 'h']"
   ]
  },
  {
   "cell_type": "code",
   "execution_count": 2,
   "metadata": {},
   "outputs": [],
   "source": [
    "# 2-1 투포인터를 이용한 스왑\n",
    "\n",
    "# 2개의 포인터를 이용해 범위를 조정해가며 풀이하는 방식"
   ]
  },
  {
   "cell_type": "code",
   "execution_count": 5,
   "metadata": {},
   "outputs": [
    {
     "name": "stdout",
     "output_type": "stream",
     "text": [
      "['o', 'l', 'l', 'e', 'h']\n",
      "['H', 'a', 'n', 'n', 'a', 'h']\n"
     ]
    }
   ],
   "source": [
    "def two_pointer_reverse(s):\n",
    "\n",
    "    left, right = 0, len(s) - 1\n",
    "\n",
    "    while left < right:\n",
    "        s[left], s[right] = s[right], s[left]\n",
    "        left += 1\n",
    "        right -= 1\n",
    "\n",
    "    return s\n",
    "\n",
    "print(two_pointer_reverse(str1))\n",
    "print(two_pointer_reverse(str2))"
   ]
  },
  {
   "cell_type": "code",
   "execution_count": 9,
   "metadata": {},
   "outputs": [
    {
     "name": "stdout",
     "output_type": "stream",
     "text": [
      "['o', 'l', 'l', 'e', 'h']\n",
      "['h', 'a', 'n', 'n', 'a', 'H']\n"
     ]
    }
   ],
   "source": [
    "# 2-2 파이썬 다운 방식\n",
    "\n",
    "def pythonic_reverse (s):\n",
    "    s.reverse()\n",
    "    return s\n",
    "\n",
    "print(pythonic_reverse(str1))\n",
    "print(pythonic_reverse(str2))"
   ]
  },
  {
   "cell_type": "code",
   "execution_count": 10,
   "metadata": {},
   "outputs": [
    {
     "name": "stdout",
     "output_type": "stream",
     "text": [
      "['o', 'l', 'l', 'e', 'h']\n",
      "['o', 'l', 'l', 'e', 'h']\n"
     ]
    }
   ],
   "source": [
    "# 슬라이싱 공간복잡도 줄이기\n",
    "\n",
    "# 1 \n",
    "str1 = ['h', 'e', 'l', 'l', 'o']\n",
    "str1 = str1[::-1]\n",
    "print(str1)\n",
    "\n",
    "# 2\n",
    "str1 = ['h', 'e', 'l', 'l', 'o']\n",
    "str1[:] = str1[::-1]\n",
    "print(str1)\n",
    "\n",
    "# 2번 방식이 1 번보다 공간 복잡도가 적다. "
   ]
  },
  {
   "cell_type": "code",
   "execution_count": null,
   "metadata": {},
   "outputs": [],
   "source": []
  }
 ],
 "metadata": {
  "kernelspec": {
   "display_name": "Python 3.10.5 64-bit",
   "language": "python",
   "name": "python3"
  },
  "language_info": {
   "codemirror_mode": {
    "name": "ipython",
    "version": 3
   },
   "file_extension": ".py",
   "mimetype": "text/x-python",
   "name": "python",
   "nbconvert_exporter": "python",
   "pygments_lexer": "ipython3",
   "version": "3.10.5"
  },
  "orig_nbformat": 4,
  "vscode": {
   "interpreter": {
    "hash": "0f9decba11e32807460237387b764227230426c90a3d4ff265bcca4228109e23"
   }
  }
 },
 "nbformat": 4,
 "nbformat_minor": 2
}
