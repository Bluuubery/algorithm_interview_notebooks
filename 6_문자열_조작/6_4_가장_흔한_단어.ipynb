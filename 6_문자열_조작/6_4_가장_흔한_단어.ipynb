{
 "cells": [
  {
   "cell_type": "code",
   "execution_count": 1,
   "metadata": {},
   "outputs": [],
   "source": [
    "# 6-4 가장 흔한 단어\n",
    "\n",
    "'''\n",
    "금지된 단어를 제외한 가장 흔하게 등장하는 단어를 출력하라.\n",
    "대소문자 구분을 하지 않으며, 구두점(마침표, 쉼표 등) 또한 무시한다.\n",
    "'''\n",
    "\n",
    "paragraph = \"Bob hit a ball, the hit BALL flew far after it was hit.\" \n",
    "banned = [\"hit\"]\n",
    "\n",
    "# \"ball\""
   ]
  },
  {
   "cell_type": "code",
   "execution_count": 21,
   "metadata": {},
   "outputs": [],
   "source": [
    "# 1 list comprehension, Counter 객체 사용\n",
    "\n",
    "# 정규식을 통한 데이터 클렌징\n",
    "import re\n",
    "\n",
    "# paragraph에서 단어가(\\w) 아닌(^) 모든 문자를 공백(' ')으로 치환한다.\n",
    "\n",
    "words_list = re.sub(r'[^\\w]', ' ', paragraph)\n",
    "words_list = words_list.lower().split()\n",
    "words = []\n",
    "\n",
    "for word in words_list:\n",
    "    if word not in banned:\n",
    "        words.append(word)"
   ]
  },
  {
   "cell_type": "code",
   "execution_count": 20,
   "metadata": {},
   "outputs": [
    {
     "name": "stdout",
     "output_type": "stream",
     "text": [
      "['bob', 'a', 'ball', 'the', 'ball', 'flew', 'far', 'after', 'it', 'was']\n"
     ]
    }
   ],
   "source": [
    "# words = [word for word in re.sub(r'[^\\w]', ' ', paragraph)\n",
    "# .lower().split() \n",
    "# if word not in banned]\n",
    "\n",
    "# print(words)"
   ]
  },
  {
   "cell_type": "code",
   "execution_count": 31,
   "metadata": {},
   "outputs": [
    {
     "name": "stdout",
     "output_type": "stream",
     "text": [
      "Counter({'ball': 2, 'bob': 1, 'a': 1, 'the': 1, 'flew': 1, 'far': 1, 'after': 1, 'it': 1, 'was': 1})\n",
      "ball\n"
     ]
    }
   ],
   "source": [
    "# Counter 모듈을 사용한다!\n",
    "\n",
    "import collections\n",
    "\n",
    "counts = collections.Counter(words)\n",
    "\n",
    "# print(counts)\n",
    "print(counts.most_common(1)[0][0])\n"
   ]
  },
  {
   "cell_type": "code",
   "execution_count": null,
   "metadata": {},
   "outputs": [],
   "source": []
  }
 ],
 "metadata": {
  "kernelspec": {
   "display_name": "Python 3.10.5 64-bit",
   "language": "python",
   "name": "python3"
  },
  "language_info": {
   "codemirror_mode": {
    "name": "ipython",
    "version": 3
   },
   "file_extension": ".py",
   "mimetype": "text/x-python",
   "name": "python",
   "nbconvert_exporter": "python",
   "pygments_lexer": "ipython3",
   "version": "3.10.5"
  },
  "orig_nbformat": 4,
  "vscode": {
   "interpreter": {
    "hash": "0f9decba11e32807460237387b764227230426c90a3d4ff265bcca4228109e23"
   }
  }
 },
 "nbformat": 4,
 "nbformat_minor": 2
}
