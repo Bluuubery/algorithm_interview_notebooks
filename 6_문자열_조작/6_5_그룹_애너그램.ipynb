{
 "cells": [
  {
   "cell_type": "code",
   "execution_count": 1,
   "metadata": {},
   "outputs": [],
   "source": [
    "# 6-5 그룹 애너그램\n",
    "\n",
    "# 문자열 배열을 받아 애너그램 단위로 그룹핑하라\n",
    "\n",
    "strs = [\"eat\",\"tea\",\"tan\",\"ate\",\"nat\",\"bat\"]\n",
    "\n",
    "# [[\"bat\"],[\"nat\",\"tan\"],[\"ate\",\"eat\",\"tea\"]]"
   ]
  },
  {
   "cell_type": "code",
   "execution_count": 2,
   "metadata": {},
   "outputs": [
    {
     "data": {
      "text/plain": [
       "'\\n애너그램을 판별하는 가장 간단한 방법은 정렬하여 비교하는 것\\n=> 애너그램인 단어들을 정렬하면 서로 같은 값을 가지게 된다!\\nsorted()로 정렬 후 join()을 이용해 딕셔너리 만들기!\\n'"
      ]
     },
     "execution_count": 2,
     "metadata": {},
     "output_type": "execute_result"
    }
   ],
   "source": [
    "# 01 정렬하여 딕셔너리에 추가\n",
    "\n",
    "'''\n",
    "애너그램을 판별하는 가장 간단한 방법은 정렬하여 비교하는 것\n",
    "=> 애너그램인 단어들을 정렬하면 서로 같은 값을 가지게 된다!\n",
    "sorted()로 정렬 후 join()을 이용해 딕셔너리 만들기!\n",
    "'''"
   ]
  },
  {
   "cell_type": "code",
   "execution_count": 5,
   "metadata": {},
   "outputs": [
    {
     "data": {
      "text/plain": [
       "[['eat', 'tea', 'ate'], ['tan', 'nat'], ['bat']]"
      ]
     },
     "execution_count": 5,
     "metadata": {},
     "output_type": "execute_result"
    }
   ],
   "source": [
    "import collections\n",
    "\n",
    "def group_anagrams(str):\n",
    "    anagrams = collections.defaultdict(list)\n",
    "\n",
    "    for word in str:\n",
    "        anagrams[''.join(sorted(word))].append(word)\n",
    "    return list(anagrams.values())\n",
    "    \n",
    "group_anagrams(strs)"
   ]
  }
 ],
 "metadata": {
  "kernelspec": {
   "display_name": "Python 3.10.5 64-bit",
   "language": "python",
   "name": "python3"
  },
  "language_info": {
   "codemirror_mode": {
    "name": "ipython",
    "version": 3
   },
   "file_extension": ".py",
   "mimetype": "text/x-python",
   "name": "python",
   "nbconvert_exporter": "python",
   "pygments_lexer": "ipython3",
   "version": "3.10.5"
  },
  "orig_nbformat": 4,
  "vscode": {
   "interpreter": {
    "hash": "0f9decba11e32807460237387b764227230426c90a3d4ff265bcca4228109e23"
   }
  }
 },
 "nbformat": 4,
 "nbformat_minor": 2
}
